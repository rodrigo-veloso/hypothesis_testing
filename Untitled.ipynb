{
 "cells": [
  {
   "cell_type": "code",
   "execution_count": 22,
   "metadata": {},
   "outputs": [
    {
     "name": "stdout",
     "output_type": "stream",
     "text": [
      "[ 0.873  2.817  0.121 -0.945 -0.055 -1.436  0.36  -1.478 -1.637 -1.869\n",
      "  0.873  2.817  0.121 -0.945 -0.055 -1.436  0.36  -1.478 -1.637 -1.869]\n",
      "    col1   col2\n",
      "0  0.873  0.873\n",
      "1  2.817  2.817\n",
      "2  0.121  0.121\n",
      "3 -0.945 -0.945\n",
      "4 -0.055 -0.055\n",
      "5 -1.436 -1.436\n",
      "6  0.360  0.360\n",
      "7 -1.478 -1.478\n",
      "8 -1.637 -1.637\n",
      "9 -1.869 -1.869\n",
      "stat=0.870, p=0.012\n",
      "Probably not Gaussian\n"
     ]
    }
   ],
   "source": [
    "import pandas as pd\n",
    "import numpy as np\n",
    "from scipy.stats import shapiro\n",
    "data = [0.873, 2.817, 0.121, -0.945, -0.055, -1.436, 0.360, -1.478, -1.637, -1.869]\n",
    "data = pd.DataFrame({'col1':data,'col2':data})\n",
    "print(np.ravel(data, order='F'))\n",
    "print(data)\n",
    "stat, p = shapiro(data)\n",
    "print('stat=%.3f, p=%.3f' % (stat, p))\n",
    "if p > 0.05:\n",
    "\tprint('Probably Gaussian')\n",
    "else:\n",
    "\tprint('Probably not Gaussian')"
   ]
  },
  {
   "cell_type": "code",
   "execution_count": 16,
   "metadata": {},
   "outputs": [
    {
     "data": {
      "text/plain": [
       "array([ 0.873,  0.873,  2.817,  2.817,  0.121,  0.121, -0.945, -0.945,\n",
       "       -0.055, -0.055, -1.436, -1.436,  0.36 ,  0.36 , -1.478, -1.478,\n",
       "       -1.637, -1.637, -1.869, -1.869])"
      ]
     },
     "execution_count": 16,
     "metadata": {},
     "output_type": "execute_result"
    }
   ],
   "source": [
    "data = np.ravel(data)\n",
    "data"
   ]
  },
  {
   "cell_type": "code",
   "execution_count": 1,
   "metadata": {},
   "outputs": [],
   "source": [
    "from ml.preprocessing.hypothesis_testing import Tester"
   ]
  },
  {
   "cell_type": "code",
   "execution_count": 2,
   "metadata": {},
   "outputs": [],
   "source": [
    "t = Tester()"
   ]
  },
  {
   "cell_type": "code",
   "execution_count": 3,
   "metadata": {},
   "outputs": [
    {
     "name": "stdout",
     "output_type": "stream",
     "text": [
      "stat=3.392, p=0.183\n",
      "statistic = 3.3918758941075353\n",
      " p-value = 0.18342710340675566\n",
      " sigificance = 0.05\n",
      " test = dagostinos\n",
      " result = True\n",
      " report: Warning!!! Test only valid for n>=20 (n = number of samples in data). The null hypothesis is accepted, thus the data was  drawn from a normal distributionSignificance level considered = 0.05,  test applied = dagostinos, p-value = 0.18342710340675566, test statistic = 3.3918758941075353\n",
      "Probably Gaussian\n"
     ]
    },
    {
     "name": "stderr",
     "output_type": "stream",
     "text": [
      "/home/rodrigo/.local/lib/python3.7/site-packages/scipy/stats/stats.py:1604: UserWarning: kurtosistest only valid for n>=20 ... continuing anyway, n=10\n",
      "  \"anyway, n=%i\" % int(n))\n"
     ]
    }
   ],
   "source": [
    "data = [0.873, 2.817, 0.121, -0.945, -0.055, -1.436, 0.360, -1.478, -1.637, -1.869]\n",
    "results = t.normality_test(data,test='dagostinos')\n",
    "print('stat=%.3f, p=%.3f' % (results.statistic, results.p_value))\n",
    "print(results)\n",
    "if results.p_value > 0.05:\n",
    "\tprint('Probably Gaussian')\n",
    "else:\n",
    "\tprint('Probably not Gaussian')"
   ]
  },
  {
   "cell_type": "code",
   "execution_count": 6,
   "metadata": {},
   "outputs": [
    {
     "name": "stdout",
     "output_type": "stream",
     "text": [
      "stat=0.895, p=0.193\n",
      "Probably Gaussian\n"
     ]
    }
   ],
   "source": [
    "from scipy.stats import shapiro\n",
    "data = [0.873, 2.817, 0.121, -0.945, -0.055, -1.436, 0.360, -1.478, -1.637, -1.869]\n",
    "stat, p = shapiro(data,test='')\n",
    "print('stat=%.3f, p=%.3f' % (stat, p))\n",
    "if p > 0.05:\n",
    "\tprint('Probably Gaussian')\n",
    "else:\n",
    "\tprint('Probably not Gaussian')"
   ]
  },
  {
   "cell_type": "code",
   "execution_count": null,
   "metadata": {},
   "outputs": [],
   "source": []
  }
 ],
 "metadata": {
  "kernelspec": {
   "display_name": "Python 3",
   "language": "python",
   "name": "python3"
  },
  "language_info": {
   "codemirror_mode": {
    "name": "ipython",
    "version": 3
   },
   "file_extension": ".py",
   "mimetype": "text/x-python",
   "name": "python",
   "nbconvert_exporter": "python",
   "pygments_lexer": "ipython3",
   "version": "3.7.3"
  }
 },
 "nbformat": 4,
 "nbformat_minor": 2
}
